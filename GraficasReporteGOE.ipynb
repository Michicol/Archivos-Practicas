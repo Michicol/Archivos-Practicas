{
 "cells": [
  {
   "cell_type": "code",
   "execution_count": 1,
   "id": "576a00b5",
   "metadata": {},
   "outputs": [],
   "source": [
    "import numpy as np\n",
    "import matplotlib.pyplot as plt\n",
    "import seaborn as sns\n",
    "from matricesAleatorias import matham as mh"
   ]
  },
  {
   "cell_type": "markdown",
   "id": "cc54bf9e",
   "metadata": {},
   "source": [
    "# Ley del semi-circulo"
   ]
  },
  {
   "cell_type": "code",
   "execution_count": 2,
   "id": "23257580",
   "metadata": {},
   "outputs": [],
   "source": [
    "#Para la matriz\n",
    "nmat = 10000\n",
    "Hmat = mh.MatrizHamiltoniana(nmat) #Se crea el objeto Hamiltoniana\n",
    "densidadmat = mh.DensidadesHam(nmat,1) #Se crea el objeto de las densidades"
   ]
  },
  {
   "cell_type": "code",
   "execution_count": 3,
   "id": "bd6ed01d",
   "metadata": {},
   "outputs": [],
   "source": [
    "#Datos ensamble\n",
    "nens = 100\n",
    "nsamp = 100000\n",
    "Hens = mh.MatrizHamiltoniana(nens)\n",
    "Evalens = []\n",
    "densidadens = mh.DensidadesHam(nsamp,1)"
   ]
  },
  {
   "cell_type": "code",
   "execution_count": null,
   "id": "d3acf0d0",
   "metadata": {},
   "outputs": [],
   "source": [
    "HGOEmat = Hmat.GOE() #Se construye la matriz hamiltoniana GOE de n*n"
   ]
  },
  {
   "cell_type": "code",
   "execution_count": null,
   "id": "ef8e8eb7",
   "metadata": {},
   "outputs": [],
   "source": []
  }
 ],
 "metadata": {
  "kernelspec": {
   "display_name": "pybind",
   "language": "python",
   "name": "python3"
  },
  "language_info": {
   "codemirror_mode": {
    "name": "ipython",
    "version": 3
   },
   "file_extension": ".py",
   "mimetype": "text/x-python",
   "name": "python",
   "nbconvert_exporter": "python",
   "pygments_lexer": "ipython3",
   "version": "3.13.5"
  }
 },
 "nbformat": 4,
 "nbformat_minor": 5
}
