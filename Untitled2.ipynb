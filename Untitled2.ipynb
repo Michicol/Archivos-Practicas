{
 "cells": [
  {
   "cell_type": "code",
   "execution_count": 1,
   "id": "16f8e227-17a9-469f-a8b9-f7a8eaece20f",
   "metadata": {},
   "outputs": [],
   "source": [
    "import numpy as np\n",
    "import matplotlib.pyplot as plt\n",
    "from matplotlib.gridspec import GridSpec\n",
    "from matricesAleatorias import matwishart as ws"
   ]
  },
  {
   "cell_type": "code",
   "execution_count": 3,
   "id": "6111e3fd-acfe-45a2-9f1e-55401d1210a7",
   "metadata": {},
   "outputs": [],
   "source": [
    "Nmat = 1000\n",
    "Tmat = 10000\n",
    "mat = ws.MatrizWishart((Nmat,Tmat))\n",
    "densidad = ws.Densidades((Nmat,Tmat),1000,4)"
   ]
  },
  {
   "cell_type": "code",
   "execution_count": 5,
   "id": "d9fd3649-9dc5-4bfe-a4f0-93710ae55efb",
   "metadata": {},
   "outputs": [],
   "source": [
    "WSEmat = mat.WSE()"
   ]
  },
  {
   "cell_type": "code",
   "execution_count": 7,
   "id": "87af80f0-951d-49c9-ac9f-846145b67f9a",
   "metadata": {},
   "outputs": [],
   "source": [
    "EvalsWSE = np.linalg.eigvalsh(WSEmat)"
   ]
  },
  {
   "cell_type": "code",
   "execution_count": 9,
   "id": "97103340-729c-44e7-a2f8-9ce7e77dcd76",
   "metadata": {},
   "outputs": [],
   "source": [
    "EvalsWSE = EvalsWSE[::2]"
   ]
  },
  {
   "cell_type": "code",
   "execution_count": 11,
   "id": "d27a62c9-cdfe-4772-a66f-e4cfb264a686",
   "metadata": {},
   "outputs": [],
   "source": [
    "x, y = densidad.MarchenkoPastur()"
   ]
  },
  {
   "cell_type": "code",
   "execution_count": 13,
   "id": "6dac44dd-c962-4295-8001-45d9c6170c98",
   "metadata": {},
   "outputs": [],
   "source": [
    "rWSE= (EvalsWSE[1:-1] - EvalsWSE[2:]) / (EvalsWSE[:-2] - EvalsWSE[1:-1])"
   ]
  },
  {
   "cell_type": "code",
   "execution_count": 15,
   "id": "b7f1312b-e01a-45fb-bee7-dfa333d4e320",
   "metadata": {},
   "outputs": [],
   "source": [
    "r = np.linspace(0,6,1000)\n",
    "pr = densidad.Pr(r)"
   ]
  },
  {
   "cell_type": "code",
   "execution_count": 17,
   "id": "e7f6738d-3082-49a1-a5ed-5b7a7257cfe7",
   "metadata": {},
   "outputs": [],
   "source": [
    "nsamp = 100000\n",
    "N = 100\n",
    "T = 1000"
   ]
  },
  {
   "cell_type": "code",
   "execution_count": 19,
   "id": "5d22e802-ce2e-4ab0-8b2c-0088ca6a221b",
   "metadata": {},
   "outputs": [],
   "source": [
    "ensWSE = ws.MatrizWishart((N,T))\n",
    "EnsEvalWSE = []"
   ]
  },
  {
   "cell_type": "code",
   "execution_count": null,
   "id": "8074b8a8-1b87-4b11-b454-9be79e83c6c2",
   "metadata": {},
   "outputs": [],
   "source": [
    "for i in range(nsamp):\n",
    "    WSE = ensWSE.WSE()\n",
    "    eval = np.linalg.eigvalsh(WSE)\n",
    "    EnsEvalWSE.append(eval)"
   ]
  },
  {
   "cell_type": "code",
   "execution_count": null,
   "id": "98ff38a9-c775-4ebc-93fb-24b32fe18c08",
   "metadata": {},
   "outputs": [],
   "source": []
  }
 ],
 "metadata": {
  "kernelspec": {
   "display_name": "Python 3 (ipykernel)",
   "language": "python",
   "name": "python3"
  },
  "language_info": {
   "codemirror_mode": {
    "name": "ipython",
    "version": 3
   },
   "file_extension": ".py",
   "mimetype": "text/x-python",
   "name": "python",
   "nbconvert_exporter": "python",
   "pygments_lexer": "ipython3",
   "version": "3.11.7"
  }
 },
 "nbformat": 4,
 "nbformat_minor": 5
}
