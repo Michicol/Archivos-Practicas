import numpy as np
import matplotlib.pyplot as plt
import seaborn as sns
from matricesAleatorias import matham as mh
from tqdm import tqdm





nmat= 10000
Hmat = mh.MatrizHamiltoniana(nmat)
densidadmat = mh.DensidadesHam(nmat,2)


HGUEmat = Hmat.GUE()


Evalsmat = np.linalg.eigvalsh(HGUEmat)
EvalsNormmat = Evalsmat / np.sqrt(nmat)


#Se extrae un porcentaje de los eigenvalores

mmat = int(nmat/6)
EvalsLinmat = Evalsmat[mmat:-mmat]
EvalsLinNormmat = EvalsNormmat[mmat:-mmat]


#Construcción de los dominios de los eigenvalores lineales
Dommat = np.linspace(mmat,EvalsLinmat.size+mmat,EvalsLinmat.size)
DomNormmat = np.linspace(mmat,EvalsLinNormmat.size+mmat,EvalsLinNormmat.size)


#Se calculan los espaciamientos no normalizados
Espaciamientosmat = np.diff(EvalsLinmat)
deltamat = Espaciamientosmat.mean()
Smat = Espaciamientosmat / deltamat


rmat = (Evalsmat[1:-1] - Evalsmat[2:]) / (Evalsmat[:-2] - Evalsmat[1:-1])


Porcentajemat = 100 - 200*mmat/nmat
Porcentajemat





nens = 100
nsamp = 100000


Hens = mh.MatrizHamiltoniana(nens)
densidadens = mh.DensidadesHam(nsamp,2)


EvalEns = []


for i in range(nsamp):
    HGUEens = Hens.GUE()
    eval = np.linalg.eigvalsh(HGUEens)
    eval = eval / np.sqrt(nens)
    EvalEns.append(eval)


EvalEns = np.concatenate(EvalEns)


rens = []


for i in range(int(nsamp/nens)):
    EvalSamp = EvalEns[0+i*100:100 + i*100]
    rsamp = (EvalSamp[1:-1] - EvalSamp[2:]) / (EvalSamp[:-2] - EvalSamp[1:-1])
    rens.append(rsamp)


rens = np.concatenate(rens)


mens = int(nens/6)
Porcentajeens = 100 - 200*mens/nens
Porcentajeens


Sens = []


for i in range(int(nsamp/nens)):
    EvalSamp = EvalEns[0+i*100:100 + i*100]
    EvalSampLin = EvalSamp[mens:-mens]
    EspaSamp = np.diff(EvalSampLin)
    deltaSamp = EspaSamp.mean()
    Ssamp = EspaSamp / deltaSamp
    Sens.append(Ssamp)


Sens = np.concatenate(Sens)


fig, ax = plt.subplots(1,2,figsize=(12,5))

fig.suptitle(r'Eigenvalores de GUE $ \beta=2 $')

ax[0].plot(EvalsNormmat,label='Eigenvalores completos')
ax[0].plot(DomNormmat,EvalsLinNormmat,label=f'Considerando {Porcentajemat} %')
ax[0].set_title('Eigenvalores normalizados matriz grande')
ax[0].grid(True,linestyle='--')
ax[0].legend()
ax[0].set_xlabel(r'$ n $')
ax[0].set_ylabel(r'$ \lambda $')

for i in range(int(nsamp/nens)):
    ax[1].plot(EvalEns[0+i*100:100 + i*100])
ax[1].set_title('Eigenvalores normalizados del ensamble')
ax[1].grid(True,linestyle='--')
ax[1].set_xlabel(r'$ n $')
ax[1].set_ylabel(r'$ \lambda $')

plt.savefig('EigenvaloresGUE.png',dpi=300)





xnormmat = np.linspace(EvalsNormmat.min(),EvalsNormmat.max(),nmat)
plamNormmat = densidadmat.SemiCicle(xnormmat)


xlamens = np.linspace(-1.5,1.5,1000)
plamens = densidadens.SemiCicle(xlamens)


fig, ax = plt.subplots(1,2,figsize=(12,5))

fig.suptitle(r'Ley del semi-circulo de Wigner GUE $ \beta=2 $',fontsize=16)

ax[0].plot(xnormmat,plamNormmat,lw=2)
ax[0].hist(EvalsNormmat,bins=30,density=True,linewidth=0.5,edgecolor='white')
ax[0].grid(True,linestyle='--')
ax[0].set_title('Caso de una matriz muy grande')
ax[0].set_xlabel(r'$ \lambda $')
ax[0].set_ylabel(r'$ p(\lambda) $')

ax[1].plot(xlamens,plamens,lw=2)
ax[1].hist(EvalEns,bins=30,density=True,linewidth=0.5,edgecolor='white')
ax[1].grid(True,linestyle='--')
ax[1].set_title('Caso del Ensamble')
ax[1].set_xlabel(r'$ \lambda $')
ax[1].set_ylabel(r'$ p(\lambda) $')

plt.savefig('Semi-CirculoGUE.png',dpi=300)


sfunmat = np.linspace(0,5,100)
psmat = densidadmat.Ps(sfunmat)


xsens = np.linspace(0,5,1000)
psens = densidadens.Ps(xsens)


fig, ax = plt.subplots(1,2,figsize=(17,5))

fig.suptitle(r'Conjetura de Wigner GUE $ \beta=2 $',fontsize=16)

ax[0].plot(sfunmat,psmat,lw=2)
ax[0].hist(Smat,bins=30,density=True,linewidth=0.5,edgecolor='white')
ax[0].grid(True,linestyle='--')
ax[0].set_title('Caso de una matriz muy grande')
ax[0].set_xlabel(r'$ S $')
ax[0].set_ylabel(r'$ p(S) $')

ax[1].plot(xsens,psens,lw=2)
ax[1].hist(Sens,bins=50,density=True,linewidth=0.5,edgecolor='white')
ax[1].grid(True,linestyle='--')
ax[1].set_title('Caso del Ensamble')
ax[1].set_xlabel(r'$ S $')
ax[1].set_ylabel(r'$ p(S) $')

plt.savefig('ConjeturaWignerGUE.png',dpi=300)





xrmat = np.linspace(0,10,1000)
prmat = densidadmat.Pr(xrmat)


xrens = np.linspace(0,10,1000)
prens = densidadens.Pr(xrens)


fig, ax = plt.subplots(1,2,figsize=(17,5))

fig.suptitle(r'Distribución de razon de espaciamientos GUE $ \beta=2 $',fontsize=16)

ax[0].plot(xrmat,prmat,lw=2)
ax[0].hist(rmat,bins=200,density=True,linewidth=0.5,edgecolor='white')
ax[0].grid(True,linestyle='--')
ax[0].set_title('Caso de una matriz muy grande')
ax[0].set_xlabel(r'$ r $')
ax[0].set_ylabel(r'$ p(r) $')
ax[0].set_xlim(0,10)

ax[1].plot(xrens,prens,lw=2)
ax[1].hist(rens,bins=300,density=True,linewidth=0.5,edgecolor='white')
ax[1].grid(True,linestyle='--')
ax[1].set_title('Caso del Ensamble')
ax[1].set_xlabel(r'$ r $')
ax[1].set_ylabel(r'$ p(r) $')
ax[1].set_xlim(0,10)

plt.savefig('prGUE.png',dpi=300)



