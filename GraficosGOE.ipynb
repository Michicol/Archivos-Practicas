{
 "cells": [
  {
   "cell_type": "code",
   "execution_count": 1,
   "id": "db431022-f6bc-4371-b243-107973dd32fe",
   "metadata": {},
   "outputs": [],
   "source": [
    "using LinearAlgebra\n",
    "using Statistics\n",
    "using Plots\n",
    "using PGFPlotsX\n",
    "using CSV, DataFrames\n",
    "using LaTeXStrings\n",
    "using StatsBase"
   ]
  },
  {
   "cell_type": "code",
   "execution_count": 2,
   "id": "b4d9f12e-17c5-4337-9d28-3455c3f47952",
   "metadata": {},
   "outputs": [
    {
     "data": {
      "text/plain": [
       "Histograma (generic function with 3 methods)"
      ]
     },
     "execution_count": 2,
     "metadata": {},
     "output_type": "execute_result"
    }
   ],
   "source": [
    "function Histograma(datos,bins,xlab,ylab,titulo,x,y,nombre_archivo,width=\"15cm\",height=\"10cm\")\n",
    "    h_norm_s = normalize(fit(Histogram, datos, nbins=bins); mode=:pdf)\n",
    "\n",
    "# 3. CALCULAR LOS CENTROS (igual que antes)\n",
    "    bordes_s = h_norm_s.edges[1]\n",
    "    centros_s = (bordes_s[1:end-1] .+ bordes_s[2:end]) ./ 2\n",
    "\n",
    "# 4. CALCULAR EL ANCHO DE BARRA (para que no haya espacios)\n",
    "    ancho_barra_s = step(bordes_s)\n",
    "\n",
    "    p = @pgf Axis(\n",
    "        {\n",
    "            xlabel = xlab,\n",
    "            ylabel = ylab,\n",
    "            title = titulo,\n",
    "            width = width, \n",
    "            height = height,\n",
    "            xmajorgrids = true,\n",
    "            ymajorgrids = true,\n",
    "            \"grid style\" = {dashed, \"gray!40\"},\n",
    "            ymin=0,\n",
    "            xmin=0,\n",
    "            xmax=4\n",
    "        },\n",
    "        Plot({\n",
    "            ybar,\n",
    "            \"fill\" = \"blue!30\",\n",
    "            \"draw\" = \"blue\",\n",
    "            bar_width = ancho_barra_s\n",
    "            },\n",
    "            Table(centros_s, h_norm_s.weights)),\n",
    "        Plot({\n",
    "            \"no markers\", # Use the correct key here\n",
    "            \"solid\", \n",
    "            \"very thick\",\n",
    "            \"orange!60\",\n",
    "            \"line width\" = \"1.5pt\"\n",
    "            },\n",
    "            Table(x=x,y=y))\n",
    "        )\n",
    "    pgfsave(nombre_archivo, p)\n",
    "end\n"
   ]
  },
  {
   "cell_type": "code",
   "execution_count": 3,
   "id": "0c4cb975-f726-4b97-bc49-cc5fdfcbc46a",
   "metadata": {},
   "outputs": [
    {
     "ename": "LoadError",
     "evalue": "ArgumentError: \"EvalsGOE.dat\" is not a valid file or doesn't exist",
     "output_type": "error",
     "traceback": [
      "ArgumentError: \"EvalsGOE.dat\" is not a valid file or doesn't exist",
      "",
      "Stacktrace:",
      " [1] \u001b[0m\u001b[1mmacro expansion\u001b[22m",
      "\u001b[90m   @\u001b[39m \u001b[90m~/.julia/packages/CSV/XLcqT/src/\u001b[39m\u001b[90m\u001b[4mcontext.jl:314\u001b[24m\u001b[39m\u001b[90m [inlined]\u001b[39m",
      " [2] \u001b[0m\u001b[1mContext\u001b[22m",
      "\u001b[90m   @\u001b[39m \u001b[90m./\u001b[39m\u001b[90m\u001b[4mnone:0\u001b[24m\u001b[39m\u001b[90m [inlined]\u001b[39m",
      " [3] \u001b[0m\u001b[1mCSV.Context\u001b[22m\u001b[0m\u001b[1m(\u001b[22m\u001b[90msource\u001b[39m::\u001b[0mCSV.Arg, \u001b[90mheader\u001b[39m::\u001b[0mCSV.Arg, \u001b[90mnormalizenames\u001b[39m::\u001b[0mCSV.Arg, \u001b[90mdatarow\u001b[39m::\u001b[0mCSV.Arg, \u001b[90mskipto\u001b[39m::\u001b[0mCSV.Arg, \u001b[90mfooterskip\u001b[39m::\u001b[0mCSV.Arg, \u001b[90mtranspose\u001b[39m::\u001b[0mCSV.Arg, \u001b[90mcomment\u001b[39m::\u001b[0mCSV.Arg, \u001b[90mignoreemptyrows\u001b[39m::\u001b[0mCSV.Arg, \u001b[90mignoreemptylines\u001b[39m::\u001b[0mCSV.Arg, \u001b[90mselect\u001b[39m::\u001b[0mCSV.Arg, \u001b[90mdrop\u001b[39m::\u001b[0mCSV.Arg, \u001b[90mlimit\u001b[39m::\u001b[0mCSV.Arg, \u001b[90mbuffer_in_memory\u001b[39m::\u001b[0mCSV.Arg, \u001b[90mthreaded\u001b[39m::\u001b[0mCSV.Arg, \u001b[90mntasks\u001b[39m::\u001b[0mCSV.Arg, \u001b[90mtasks\u001b[39m::\u001b[0mCSV.Arg, \u001b[90mrows_to_check\u001b[39m::\u001b[0mCSV.Arg, \u001b[90mlines_to_check\u001b[39m::\u001b[0mCSV.Arg, \u001b[90mmissingstrings\u001b[39m::\u001b[0mCSV.Arg, \u001b[90mmissingstring\u001b[39m::\u001b[0mCSV.Arg, \u001b[90mdelim\u001b[39m::\u001b[0mCSV.Arg, \u001b[90mignorerepeated\u001b[39m::\u001b[0mCSV.Arg, \u001b[90mquoted\u001b[39m::\u001b[0mCSV.Arg, \u001b[90mquotechar\u001b[39m::\u001b[0mCSV.Arg, \u001b[90mopenquotechar\u001b[39m::\u001b[0mCSV.Arg, \u001b[90mclosequotechar\u001b[39m::\u001b[0mCSV.Arg, \u001b[90mescapechar\u001b[39m::\u001b[0mCSV.Arg, \u001b[90mdateformat\u001b[39m::\u001b[0mCSV.Arg, \u001b[90mdateformats\u001b[39m::\u001b[0mCSV.Arg, \u001b[90mdecimal\u001b[39m::\u001b[0mCSV.Arg, \u001b[90mgroupmark\u001b[39m::\u001b[0mCSV.Arg, \u001b[90mtruestrings\u001b[39m::\u001b[0mCSV.Arg, \u001b[90mfalsestrings\u001b[39m::\u001b[0mCSV.Arg, \u001b[90mstripwhitespace\u001b[39m::\u001b[0mCSV.Arg, \u001b[90mtype\u001b[39m::\u001b[0mCSV.Arg, \u001b[90mtypes\u001b[39m::\u001b[0mCSV.Arg, \u001b[90mtypemap\u001b[39m::\u001b[0mCSV.Arg, \u001b[90mpool\u001b[39m::\u001b[0mCSV.Arg, \u001b[90mdowncast\u001b[39m::\u001b[0mCSV.Arg, \u001b[90mlazystrings\u001b[39m::\u001b[0mCSV.Arg, \u001b[90mstringtype\u001b[39m::\u001b[0mCSV.Arg, \u001b[90mstrict\u001b[39m::\u001b[0mCSV.Arg, \u001b[90msilencewarnings\u001b[39m::\u001b[0mCSV.Arg, \u001b[90mmaxwarnings\u001b[39m::\u001b[0mCSV.Arg, \u001b[90mdebug\u001b[39m::\u001b[0mCSV.Arg, \u001b[90mparsingdebug\u001b[39m::\u001b[0mCSV.Arg, \u001b[90mvalidate\u001b[39m::\u001b[0mCSV.Arg, \u001b[90mstreaming\u001b[39m::\u001b[0mCSV.Arg\u001b[0m\u001b[1m)\u001b[22m",
      "\u001b[90m   @\u001b[39m \u001b[35mCSV\u001b[39m \u001b[90m~/.julia/packages/CSV/XLcqT/src/\u001b[39m\u001b[90m\u001b[4mcontext.jl:0\u001b[24m\u001b[39m",
      " [4] \u001b[0m\u001b[1m#File#18\u001b[22m",
      "\u001b[90m   @\u001b[39m \u001b[90m~/.julia/packages/CSV/XLcqT/src/\u001b[39m\u001b[90m\u001b[4mfile.jl:222\u001b[24m\u001b[39m\u001b[90m [inlined]\u001b[39m",
      " [5] \u001b[0m\u001b[1mCSV.File\u001b[22m\u001b[0m\u001b[1m(\u001b[22m\u001b[90msource\u001b[39m::\u001b[0mString\u001b[0m\u001b[1m)\u001b[22m",
      "\u001b[90m   @\u001b[39m \u001b[35mCSV\u001b[39m \u001b[90m~/.julia/packages/CSV/XLcqT/src/\u001b[39m\u001b[90m\u001b[4mfile.jl:162\u001b[24m\u001b[39m",
      " [6] \u001b[0m\u001b[1mread\u001b[22m\u001b[0m\u001b[1m(\u001b[22m\u001b[90msource\u001b[39m::\u001b[0mString, \u001b[90msink\u001b[39m::\u001b[0mType; \u001b[90mcopycols\u001b[39m::\u001b[0mBool, \u001b[90mkwargs\u001b[39m::\u001b[0m@Kwargs\u001b[90m{}\u001b[39m\u001b[0m\u001b[1m)\u001b[22m",
      "\u001b[90m   @\u001b[39m \u001b[35mCSV\u001b[39m \u001b[90m~/.julia/packages/CSV/XLcqT/src/\u001b[39m\u001b[90m\u001b[4mCSV.jl:117\u001b[24m\u001b[39m",
      " [7] \u001b[0m\u001b[1mread\u001b[22m\u001b[0m\u001b[1m(\u001b[22m\u001b[90msource\u001b[39m::\u001b[0mString, \u001b[90msink\u001b[39m::\u001b[0mType\u001b[0m\u001b[1m)\u001b[22m",
      "\u001b[90m   @\u001b[39m \u001b[35mCSV\u001b[39m \u001b[90m~/.julia/packages/CSV/XLcqT/src/\u001b[39m\u001b[90m\u001b[4mCSV.jl:113\u001b[24m\u001b[39m",
      " [8] top-level scope",
      "\u001b[90m   @\u001b[39m \u001b[90m\u001b[4mIn[3]:1\u001b[24m\u001b[39m",
      " [9] \u001b[0m\u001b[1meval\u001b[22m\u001b[0m\u001b[1m(\u001b[22m\u001b[90mm\u001b[39m::\u001b[0mModule, \u001b[90me\u001b[39m::\u001b[0mAny\u001b[0m\u001b[1m)\u001b[22m",
      "\u001b[90m   @\u001b[39m \u001b[90mCore\u001b[39m \u001b[90m./\u001b[39m\u001b[90m\u001b[4mboot.jl:489\u001b[24m\u001b[39m"
     ]
    }
   ],
   "source": [
    "df = CSV.read(\"EvalsGOE.dat\",DataFrame)"
   ]
  },
  {
   "cell_type": "code",
   "execution_count": null,
   "id": "1b15248e-35b0-4893-b8a3-1033b1befcdd",
   "metadata": {},
   "outputs": [],
   "source": []
  }
 ],
 "metadata": {
  "kernelspec": {
   "display_name": "Julia 1.12.0",
   "language": "julia",
   "name": "julia-1.12"
  },
  "language_info": {
   "file_extension": ".jl",
   "mimetype": "application/julia",
   "name": "julia",
   "version": "1.12.0"
  }
 },
 "nbformat": 4,
 "nbformat_minor": 5
}
