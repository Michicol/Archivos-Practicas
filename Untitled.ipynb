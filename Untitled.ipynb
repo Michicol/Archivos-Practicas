{
 "cells": [
  {
   "cell_type": "code",
   "execution_count": null,
   "id": "c53f7399-863e-4209-9d6d-45525636cf6a",
   "metadata": {},
   "outputs": [],
   "source": [
    "using Pkg"
   ]
  },
  {
   "cell_type": "code",
   "execution_count": null,
   "id": "04d8c2f3-7cce-4960-a29b-853363f7278b",
   "metadata": {},
   "outputs": [],
   "source": []
  }
 ],
 "metadata": {
  "kernelspec": {
   "display_name": "Julia 1.6.3",
   "language": "julia",
   "name": "julia-1.6"
  },
  "language_info": {
   "name": ""
  }
 },
 "nbformat": 4,
 "nbformat_minor": 5
}
