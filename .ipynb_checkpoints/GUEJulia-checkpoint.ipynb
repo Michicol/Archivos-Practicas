{
 "cells": [
  {
   "cell_type": "code",
   "execution_count": 1,
   "id": "1a5b8a54-f0fe-4b27-8442-93976310fb71",
   "metadata": {},
   "outputs": [],
   "source": [
    "using Pkg"
   ]
  },
  {
   "cell_type": "code",
   "execution_count": 2,
   "id": "e9d06370-3558-4d96-a848-09a3d4fc546f",
   "metadata": {},
   "outputs": [],
   "source": [
    "using Plots\n",
    "using Statistics\n",
    "using LinearAlgebra\n",
    "using PGFPlotsX\n",
    "using Random\n",
    "using Distributions"
   ]
  },
  {
   "cell_type": "code",
   "execution_count": 3,
   "id": "35a34f83-a549-4fbf-987d-20d3cc5d19ef",
   "metadata": {},
   "outputs": [
    {
     "data": {
      "text/plain": [
       "Plots.PGFPlotsXBackend()"
      ]
     },
     "execution_count": 3,
     "metadata": {},
     "output_type": "execute_result"
    }
   ],
   "source": [
    "pgfplotsx()"
   ]
  },
  {
   "cell_type": "code",
   "execution_count": 4,
   "id": "4bb3b2f1-0d66-4613-9594-2fceb6aa1978",
   "metadata": {},
   "outputs": [
    {
     "data": {
      "text/plain": [
       "GUE2 (generic function with 1 method)"
      ]
     },
     "execution_count": 4,
     "metadata": {},
     "output_type": "execute_result"
    }
   ],
   "source": [
    "function GUE2(n)\n",
    "  Y = randn(ComplexF64, n,n) * (1/sqrt(2))\n",
    "  return (Y + adjoint(Y))\n",
    "end"
   ]
  },
  {
   "cell_type": "code",
   "execution_count": 5,
   "id": "ff578e1a-2591-42f2-8e34-a6948e098bfc",
   "metadata": {},
   "outputs": [
    {
     "data": {
      "text/plain": [
       "SemiCirculo (generic function with 1 method)"
      ]
     },
     "execution_count": 5,
     "metadata": {},
     "output_type": "execute_result"
    }
   ],
   "source": [
    "function SemiCirculo(x)\n",
    "  rho = zeros(eltype(x),size(x))\n",
    "  mask = abs.(x) .<= sqrt(2)\n",
    "  rho[mask] = (1/pi) .* sqrt.(2 .- x[mask].^2)\n",
    "  return rho\n",
    "end"
   ]
  },
  {
   "cell_type": "code",
   "execution_count": 6,
   "id": "3df34746-6522-48a1-ad9f-f2f21795bcdf",
   "metadata": {},
   "outputs": [
    {
     "data": {
      "text/plain": [
       "100-element Vector{Float64}:\n",
       " 0.0\n",
       " 0.0\n",
       " 0.0\n",
       " 0.03828039994070812\n",
       " 0.10012552973971357\n",
       " 0.13564207771317646\n",
       " 0.1630531926755432\n",
       " 0.18597804411187788\n",
       " 0.2059204725041265\n",
       " 0.2236796100578173\n",
       " 0.23974113908456143\n",
       " 0.2544267643903845\n",
       " 0.2679627995849588\n",
       " ⋮\n",
       " 0.2544267643903845\n",
       " 0.23974113908456143\n",
       " 0.2236796100578173\n",
       " 0.2059204725041265\n",
       " 0.18597804411187788\n",
       " 0.1630531926755432\n",
       " 0.13564207771317646\n",
       " 0.10012552973971357\n",
       " 0.03828039994070812\n",
       " 0.0\n",
       " 0.0\n",
       " 0.0"
      ]
     },
     "execution_count": 6,
     "metadata": {},
     "output_type": "execute_result"
    }
   ],
   "source": [
    "x = range(-1.5,1.5, length=100)\n",
    "y = SemiCirculo(x)"
   ]
  },
  {
   "cell_type": "code",
   "execution_count": 7,
   "id": "9f960f38-eec6-4e85-8f32-cde4388bb07c",
   "metadata": {},
   "outputs": [
    {
     "data": {
      "text/plain": [
       "10000×10000 Matrix{ComplexF64}:\n",
       "   0.851228+0.0im         0.00740379-0.937262im    …   -0.647735+0.465112im\n",
       " 0.00740379+0.937262im      -1.24641+0.0im              -1.26147-0.105045im\n",
       "  -0.185495+1.03939im      -0.655673-0.170793im        -0.307461-0.686647im\n",
       "   -1.33165-1.60325im       0.915304+1.17439im        -0.0249088+0.433853im\n",
       " 0.00284782-0.402407im       -0.6311+0.116226im          0.62066-0.81522im\n",
       "  -0.261428+1.17544im       0.721159-0.643726im    …    0.494891+0.25428im\n",
       "  -0.101178+0.513583im       -0.1143-0.563307im         -1.49375-0.441619im\n",
       "   0.139678-0.188125im      -0.56696-1.0164im            1.69136+0.798348im\n",
       "  -0.721462-0.850997im     -0.187451+0.510406im         0.112414-0.405074im\n",
       "    1.20194-0.425627im     -0.481406+0.256556im        -0.698564-1.01168im\n",
       "   0.134613+0.680672im      0.775016+0.612051im    …     1.19839-0.263677im\n",
       "  -0.110745+1.13575im      -0.184269-1.02981im          0.149878+0.801531im\n",
       "  -0.340553-0.00995352im    -1.13967+0.625894im         0.305196-0.442084im\n",
       "           ⋮                                       ⋱  \n",
       "   0.398407+0.657823im     -0.544393-0.00462364im      -0.405391+0.886876im\n",
       "   0.840162-0.704732im     -0.386109-0.0746814im       -0.562447-0.428075im\n",
       "   0.349156+0.158692im     -0.169986+0.102308im    …    0.901572+0.601996im\n",
       "   0.456539-0.504578im       1.19549+1.37755im         -0.011021-0.292794im\n",
       "  -0.701285+0.0913261im     0.248054-0.948072im        -0.117165-1.0685im\n",
       "    1.10623+0.0824422im   -0.0694655+0.179537im         0.480561+0.102876im\n",
       "  0.0874318-0.883108im      0.496801-0.0389936im        0.526167+1.16564im\n",
       "  -0.396398-0.0800198im    -0.249162-0.12825im     …    0.948808+0.0796696im\n",
       "  -0.761582+0.449767im      0.714307+0.278483im        -0.618587+0.506623im\n",
       "  0.0116235+0.00426979im    0.548893+0.674982im         0.901275+0.185499im\n",
       "  -0.735834+0.382974im     0.0380911-0.0458038im       -0.626179-0.491788im\n",
       "  -0.647735-0.465112im      -1.26147+0.105045im         0.262577+0.0im"
      ]
     },
     "execution_count": 7,
     "metadata": {},
     "output_type": "execute_result"
    }
   ],
   "source": [
    "H = GUE2(10000)"
   ]
  },
  {
   "cell_type": "code",
   "execution_count": null,
   "id": "5c68d27b-168c-41ee-92aa-dd3634a54110",
   "metadata": {},
   "outputs": [],
   "source": [
    "Evals = eigvals(H)"
   ]
  },
  {
   "cell_type": "code",
   "execution_count": null,
   "id": "2e097303-53f4-40d9-a753-0ff59bc621cf",
   "metadata": {},
   "outputs": [],
   "source": []
  }
 ],
 "metadata": {
  "kernelspec": {
   "display_name": "Julia 1.12.0",
   "language": "julia",
   "name": "julia-1.12"
  },
  "language_info": {
   "file_extension": ".jl",
   "mimetype": "application/julia",
   "name": "julia",
   "version": "1.12.0"
  }
 },
 "nbformat": 4,
 "nbformat_minor": 5
}
