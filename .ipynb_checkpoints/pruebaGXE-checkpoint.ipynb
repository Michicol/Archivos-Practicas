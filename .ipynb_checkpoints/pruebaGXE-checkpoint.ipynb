{
 "cells": [
  {
   "cell_type": "code",
   "execution_count": 1,
   "id": "698cf325",
   "metadata": {},
   "outputs": [
    {
     "ename": "LoadError",
     "evalue": "LoadError: UndefVarError: `@pgf` not defined in `Main`\nSuggestion: check for spelling errors or missing imports.\nin expression starting at In[1]:6",
     "output_type": "error",
     "traceback": [
      "LoadError: UndefVarError: `@pgf` not defined in `Main`\nSuggestion: check for spelling errors or missing imports.\nin expression starting at In[1]:6",
      "",
      "Stacktrace:",
      " [1] \u001b[0m\u001b[1meval\u001b[22m\u001b[0m\u001b[1m(\u001b[22m\u001b[90mm\u001b[39m::\u001b[0mModule, \u001b[90me\u001b[39m::\u001b[0mAny\u001b[0m\u001b[1m)\u001b[22m",
      "\u001b[90m   @\u001b[39m \u001b[90mCore\u001b[39m \u001b[90m./\u001b[39m\u001b[90m\u001b[4mboot.jl:489\u001b[24m\u001b[39m"
     ]
    }
   ],
   "source": [
    "begin\n",
    "\tusing PGFPlotsX\n",
    "\tpgfplotsx() # Configura el backend\n",
    "\t\n",
    "\t# 1. Crear el gráfico y asignarlo a una variable (sin cambios aquí)\n",
    "\tp = @pgf TikzPicture(\n",
    "\t\t\tAxis(\n",
    "\t\t\t\t{\n",
    "\t\t\t\t\txlabel = \"Eje X\",\n",
    "\t\t\t\t\tylabel = \"Eje Y\",\n",
    "\t\t\t\t\ttitle = \"Mi Gráfico de Ejemplo\"\n",
    "\t\t\t\t},\n",
    "\t\t\t\tPlotInc({ only_marks },\n",
    "\t\t\t\t\tTable(; x = 1:2, y = 3:4)),\n",
    "\t\t\t\tPlotInc(\n",
    "\t\t\t\t\tTable(; x = 5:6, y = 1:2))\n",
    "\t\t\t)\n",
    "\t\t)\n",
    "\n",
    "\t# 2. Guardar en diferentes formatos (¡Aquí está la corrección!)\n",
    "\tPGFPlotsX.save(\"mi_grafico.eps\", p)\n",
    "\tPGFPlotsX.save(\"mi_grafico.png\", p)\n",
    "\t\n",
    "\tprintln(\"¡Gráficos exportados con éxito!\")\n",
    "\n",
    "\t# (Opcional) Muestra el gráfico en Pluto al final\n",
    "\tp \n",
    "end"
   ]
  },
  {
   "cell_type": "code",
   "execution_count": null,
   "id": "e05c94e8",
   "metadata": {},
   "outputs": [],
   "source": []
  }
 ],
 "metadata": {
  "kernelspec": {
   "display_name": "Julia 1.12.0",
   "language": "julia",
   "name": "julia-1.12"
  },
  "language_info": {
   "file_extension": ".jl",
   "mimetype": "application/julia",
   "name": "julia",
   "version": "1.12.0"
  }
 },
 "nbformat": 4,
 "nbformat_minor": 5
}
