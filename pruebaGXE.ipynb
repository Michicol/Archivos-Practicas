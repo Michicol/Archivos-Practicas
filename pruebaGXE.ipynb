{
 "cells": [
  {
   "cell_type": "code",
   "execution_count": 1,
   "id": "698cf325",
   "metadata": {},
   "outputs": [
    {
     "ename": "LoadError",
     "evalue": "LoadError: UndefVarError: `@pgf` not defined in `Main`\nSuggestion: check for spelling errors or missing imports.\nin expression starting at In[1]:6",
     "output_type": "error",
     "traceback": [
      "LoadError: UndefVarError: `@pgf` not defined in `Main`\nSuggestion: check for spelling errors or missing imports.\nin expression starting at In[1]:6",
      "",
      "Stacktrace:",
      " [1] \u001b[0m\u001b[1meval\u001b[22m\u001b[0m\u001b[1m(\u001b[22m\u001b[90mm\u001b[39m::\u001b[0mModule, \u001b[90me\u001b[39m::\u001b[0mAny\u001b[0m\u001b[1m)\u001b[22m",
      "\u001b[90m   @\u001b[39m \u001b[90mCore\u001b[39m \u001b[90m./\u001b[39m\u001b[90m\u001b[4mboot.jl:489\u001b[24m\u001b[39m"
     ]
    }
   ],
   "source": [
    "begin\n",
    "\tusing PGFPlotsX\n",
    "\tpgfplotsx() # Configura el backend\n",
    "\t\n",
    "\t# 1. Crear el gráfico y asignarlo a una variable (sin cambios aquí)\n",
    "\tp = @pgf TikzPicture(\n",
    "\t\t\tAxis(\n",
    "\t\t\t\t{\n",
    "\t\t\t\t\txlabel = \"Eje X\",\n",
    "\t\t\t\t\tylabel = \"Eje Y\",\n",
    "\t\t\t\t\ttitle = \"Mi Gráfico de Ejemplo\"\n",
    "\t\t\t\t},\n",
    "\t\t\t\tPlotInc({ only_marks },\n",
    "\t\t\t\t\tTable(; x = 1:2, y = 3:4)),\n",
    "\t\t\t\tPlotInc(\n",
    "\t\t\t\t\tTable(; x = 5:6, y = 1:2))\n",
    "\t\t\t)\n",
    "\t\t)\n",
    "\n",
    "\t# 2. Guardar en diferentes formatos (¡Aquí está la corrección!)\n",
    "\tPGFPlotsX.save(\"mi_grafico.eps\", p)\n",
    "\tPGFPlotsX.save(\"mi_grafico.png\", p)\n",
    "\t\n",
    "\tprintln(\"¡Gráficos exportados con éxito!\")\n",
    "\n",
    "\t# (Opcional) Muestra el gráfico en Pluto al final\n",
    "\tp \n",
    "end"
   ]
  },
  {
   "cell_type": "code",
   "execution_count": 1,
   "id": "e05c94e8",
   "metadata": {},
   "outputs": [
    {
     "data": {
      "image/png": "[encoded data removed]",
      "image/svg+xml": [
       "<?xml version=\"1.0\" encoding=\"UTF-8\"?>\n",
       "<svg xmlns=\"http://www.w3.org/2000/svg\" xmlns:xlink=\"http://www.w3.org/1999/xlink\" width=\"219.471pt\" height=\"185.988pt\" viewBox=\"0 0 219.471 185.988\" version=\"1.2\">\n",
       "<defs>\n",
       "<g>\n",
       "<symbol overflow=\"visible\" id=\"glyph-1760295257567534-0-0\">\n",
       "<path style=\"stroke:none;\" d=\"\"/>\n",
       "</symbol>\n",
       "<symbol overflow=\"visible\" id=\"glyph-1760295257567534-0-1\">\n",
       "<path style=\"stroke:none;\" d=\"M 2.921875 -6.359375 C 2.921875 -6.59375 2.921875 -6.625 2.6875 -6.625 C 2.078125 -5.984375 1.203125 -5.984375 0.890625 -5.984375 L 0.890625 -5.671875 C 1.078125 -5.671875 1.671875 -5.671875 2.1875 -5.9375 L 2.1875 -0.78125 C 2.1875 -0.421875 2.15625 -0.3125 1.265625 -0.3125 L 0.9375 -0.3125 L 0.9375 0 C 1.296875 -0.03125 2.15625 -0.03125 2.546875 -0.03125 C 2.953125 -0.03125 3.8125 -0.03125 4.15625 0 L 4.15625 -0.3125 L 3.84375 -0.3125 C 2.953125 -0.3125 2.921875 -0.421875 2.921875 -0.78125 Z M 2.921875 -6.359375 \"/>\n",
       "</symbol>\n",
       "<symbol overflow=\"visible\" id=\"glyph-1760295257567534-0-2\">\n",
       "<path style=\"stroke:none;\" d=\"M 1.265625 -0.765625 L 2.3125 -1.78125 C 3.859375 -3.15625 4.46875 -3.703125 4.46875 -4.6875 C 4.46875 -5.828125 3.5625 -6.625 2.359375 -6.625 C 1.234375 -6.625 0.5 -5.703125 0.5 -4.8125 C 0.5 -4.265625 1 -4.265625 1.03125 -4.265625 C 1.1875 -4.265625 1.546875 -4.375 1.546875 -4.796875 C 1.546875 -5.046875 1.359375 -5.3125 1.015625 -5.3125 C 0.9375 -5.3125 0.921875 -5.3125 0.890625 -5.296875 C 1.109375 -5.9375 1.65625 -6.3125 2.21875 -6.3125 C 3.125 -6.3125 3.5625 -5.5 3.5625 -4.6875 C 3.5625 -3.890625 3.0625 -3.109375 2.515625 -2.5 L 0.609375 -0.375 C 0.5 -0.265625 0.5 -0.234375 0.5 0 L 4.1875 0 L 4.46875 -1.734375 L 4.21875 -1.734375 C 4.15625 -1.4375 4.09375 -1 4 -0.84375 C 3.921875 -0.765625 3.265625 -0.765625 3.046875 -0.765625 Z M 1.265625 -0.765625 \"/>\n",
       "</symbol>\n",
       "<symbol overflow=\"visible\" id=\"glyph-1760295257567534-0-3\">\n",
       "<path style=\"stroke:none;\" d=\"M 2.875 -3.5 C 3.703125 -3.765625 4.265625 -4.46875 4.265625 -5.25 C 4.265625 -6.0625 3.40625 -6.625 2.4375 -6.625 C 1.4375 -6.625 0.6875 -6.015625 0.6875 -5.265625 C 0.6875 -4.9375 0.90625 -4.75 1.1875 -4.75 C 1.5 -4.75 1.703125 -4.96875 1.703125 -5.25 C 1.703125 -5.75 1.234375 -5.75 1.078125 -5.75 C 1.390625 -6.234375 2.046875 -6.375 2.40625 -6.375 C 2.8125 -6.375 3.359375 -6.15625 3.359375 -5.25 C 3.359375 -5.140625 3.34375 -4.5625 3.078125 -4.125 C 2.78125 -3.640625 2.4375 -3.625 2.203125 -3.609375 C 2.109375 -3.59375 1.875 -3.578125 1.8125 -3.578125 C 1.734375 -3.5625 1.65625 -3.5625 1.65625 -3.453125 C 1.65625 -3.34375 1.734375 -3.34375 1.890625 -3.34375 L 2.328125 -3.34375 C 3.15625 -3.34375 3.515625 -2.671875 3.515625 -1.703125 C 3.515625 -0.34375 2.828125 -0.0625 2.390625 -0.0625 C 1.96875 -0.0625 1.21875 -0.234375 0.875 -0.8125 C 1.21875 -0.765625 1.53125 -0.984375 1.53125 -1.359375 C 1.53125 -1.71875 1.265625 -1.921875 0.96875 -1.921875 C 0.734375 -1.921875 0.421875 -1.78125 0.421875 -1.34375 C 0.421875 -0.4375 1.34375 0.21875 2.421875 0.21875 C 3.640625 0.21875 4.546875 -0.6875 4.546875 -1.703125 C 4.546875 -2.515625 3.921875 -3.296875 2.875 -3.5 Z M 2.875 -3.5 \"/>\n",
       "</symbol>\n",
       "<symbol overflow=\"visible\" id=\"glyph-1760295257567534-0-4\">\n",
       "<path style=\"stroke:none;\" d=\"M 2.921875 -1.640625 L 2.921875 -0.78125 C 2.921875 -0.421875 2.90625 -0.3125 2.171875 -0.3125 L 1.953125 -0.3125 L 1.953125 0 C 2.359375 -0.03125 2.875 -0.03125 3.296875 -0.03125 C 3.71875 -0.03125 4.25 -0.03125 4.65625 0 L 4.65625 -0.3125 L 4.4375 -0.3125 C 3.703125 -0.3125 3.6875 -0.421875 3.6875 -0.78125 L 3.6875 -1.640625 L 4.6875 -1.640625 L 4.6875 -1.953125 L 3.6875 -1.953125 L 3.6875 -6.46875 C 3.6875 -6.671875 3.6875 -6.734375 3.53125 -6.734375 C 3.4375 -6.734375 3.40625 -6.734375 3.328125 -6.609375 L 0.28125 -1.953125 L 0.28125 -1.640625 Z M 2.984375 -1.953125 L 0.5625 -1.953125 L 2.984375 -5.65625 Z M 2.984375 -1.953125 \"/>\n",
       "</symbol>\n",
       "<symbol overflow=\"visible\" id=\"glyph-1760295257567534-0-5\">\n",
       "<path style=\"stroke:none;\" d=\"M 4.46875 -2 C 4.46875 -3.1875 3.640625 -4.171875 2.578125 -4.171875 C 2.09375 -4.171875 1.671875 -4.015625 1.3125 -3.671875 L 1.3125 -5.609375 C 1.515625 -5.546875 1.84375 -5.46875 2.15625 -5.46875 C 3.375 -5.46875 4.078125 -6.375 4.078125 -6.515625 C 4.078125 -6.5625 4.046875 -6.625 3.96875 -6.625 C 3.96875 -6.625 3.9375 -6.625 3.890625 -6.59375 C 3.703125 -6.5 3.203125 -6.296875 2.546875 -6.296875 C 2.140625 -6.296875 1.6875 -6.375 1.21875 -6.578125 C 1.140625 -6.609375 1.125 -6.609375 1.109375 -6.609375 C 1 -6.609375 1 -6.53125 1 -6.375 L 1 -3.421875 C 1 -3.25 1 -3.171875 1.140625 -3.171875 C 1.21875 -3.171875 1.234375 -3.203125 1.265625 -3.265625 C 1.375 -3.421875 1.75 -3.953125 2.546875 -3.953125 C 3.078125 -3.953125 3.3125 -3.5 3.40625 -3.3125 C 3.5625 -2.953125 3.578125 -2.5625 3.578125 -2.0625 C 3.578125 -1.71875 3.578125 -1.125 3.34375 -0.703125 C 3.09375 -0.3125 2.734375 -0.0625 2.28125 -0.0625 C 1.546875 -0.0625 0.984375 -0.59375 0.8125 -1.171875 C 0.84375 -1.15625 0.875 -1.15625 0.984375 -1.15625 C 1.3125 -1.15625 1.484375 -1.40625 1.484375 -1.640625 C 1.484375 -1.875 1.3125 -2.125 0.984375 -2.125 C 0.84375 -2.125 0.5 -2.0625 0.5 -1.59375 C 0.5 -0.75 1.1875 0.21875 2.296875 0.21875 C 3.453125 0.21875 4.46875 -0.734375 4.46875 -2 Z M 4.46875 -2 \"/>\n",
       "</symbol>\n",
       "<symbol overflow=\"visible\" id=\"glyph-1760295257567534-1-0\">\n",
       "<path style=\"stroke:none;\" d=\"\"/>\n",
       "</symbol>\n",
       "<symbol overflow=\"visible\" id=\"glyph-1760295257567534-1-1\">\n",
       "<path style=\"stroke:none;\" d=\"M 5.125 0 L 5.125 -0.3125 C 4.59375 -0.3125 4.40625 -0.328125 4.1875 -0.609375 L 2.859375 -2.328125 C 3.15625 -2.71875 3.53125 -3.203125 3.765625 -3.453125 C 4.078125 -3.8125 4.484375 -3.96875 4.953125 -3.96875 L 4.953125 -4.28125 C 4.6875 -4.265625 4.390625 -4.25 4.140625 -4.25 C 3.828125 -4.25 3.3125 -4.265625 3.1875 -4.28125 L 3.1875 -3.96875 C 3.390625 -3.953125 3.46875 -3.828125 3.46875 -3.671875 C 3.46875 -3.515625 3.375 -3.375 3.3125 -3.3125 L 2.703125 -2.546875 L 1.921875 -3.546875 C 1.84375 -3.640625 1.84375 -3.671875 1.84375 -3.734375 C 1.84375 -3.875 1.984375 -3.96875 2.1875 -3.96875 L 2.1875 -4.28125 L 1.109375 -4.25 C 0.90625 -4.25 0.4375 -4.265625 0.171875 -4.28125 L 0.171875 -3.96875 C 0.859375 -3.96875 0.875 -3.96875 1.34375 -3.375 L 2.328125 -2.09375 C 1.859375 -1.484375 1.859375 -1.46875 1.390625 -0.90625 C 0.921875 -0.328125 0.328125 -0.3125 0.125 -0.3125 L 0.125 0 C 0.375 -0.015625 0.6875 -0.03125 0.9375 -0.03125 L 1.890625 0 L 1.890625 -0.3125 C 1.671875 -0.34375 1.59375 -0.46875 1.59375 -0.609375 C 1.59375 -0.828125 1.890625 -1.15625 2.5 -1.875 L 3.25 -0.890625 C 3.328125 -0.78125 3.453125 -0.609375 3.453125 -0.5625 C 3.453125 -0.46875 3.375 -0.3125 3.09375 -0.3125 L 3.09375 0 L 4.171875 -0.03125 C 4.4375 -0.03125 4.828125 -0.015625 5.125 0 Z M 5.125 0 \"/>\n",
       "</symbol>\n",
       "<symbol overflow=\"visible\" id=\"glyph-1760295257567534-2-0\">\n",
       "<path style=\"stroke:none;\" d=\"\"/>\n",
       "</symbol>\n",
       "<symbol overflow=\"visible\" id=\"glyph-1760295257567534-2-1\">\n",
       "<path style=\"stroke:none;\" d=\"M -3.96875 -5.046875 L -4.28125 -5.046875 C -4.265625 -4.8125 -4.25 -4.53125 -4.25 -4.296875 L -4.28125 -3.4375 L -3.96875 -3.4375 C -3.96875 -3.75 -3.796875 -3.90625 -3.546875 -3.90625 C -3.453125 -3.90625 -3.421875 -3.890625 -3.3125 -3.84375 L -0.859375 -2.84375 L -3.53125 -1.734375 C -3.640625 -1.703125 -3.671875 -1.671875 -3.71875 -1.671875 C -3.96875 -1.671875 -3.96875 -2.046875 -3.96875 -2.234375 L -4.28125 -2.234375 L -4.25 -1.15625 C -4.25 -0.890625 -4.265625 -0.484375 -4.28125 -0.1875 L -3.96875 -0.1875 C -3.96875 -0.671875 -3.96875 -0.859375 -3.625 -1 L 0 -2.484375 L 0.59375 -2.234375 C 1.140625 -2.015625 1.8125 -1.734375 1.8125 -1.109375 C 1.8125 -1.046875 1.8125 -0.828125 1.640625 -0.640625 C 1.59375 -0.9375 1.375 -1.03125 1.21875 -1.03125 C 0.96875 -1.03125 0.8125 -0.828125 0.8125 -0.609375 C 0.8125 -0.40625 0.9375 -0.1875 1.234375 -0.1875 C 1.671875 -0.1875 2.03125 -0.609375 2.03125 -1.109375 C 2.03125 -1.734375 1.46875 -2.140625 0.90625 -2.375 L -3.34375 -4.125 C -3.96875 -4.375 -3.96875 -4.890625 -3.96875 -5.046875 Z M -3.96875 -5.046875 \"/>\n",
       "</symbol>\n",
       "</g>\n",
       "<clipPath id=\"clip-1760295257567534-1\">\n",
       "  <path d=\"M 0 0.21875 L 218.941406 0.21875 L 218.941406 185.757812 L 0 185.757812 Z M 0 0.21875 \"/>\n",
       "</clipPath>\n",
       "<clipPath id=\"clip-1760295257567534-2\">\n",
       "  <path d=\"M 40 0.21875 L 203 0.21875 L 203 162 L 40 162 Z M 40 0.21875 \"/>\n",
       "</clipPath>\n",
       "<clipPath id=\"clip-1760295257567534-3\">\n",
       "  <path d=\"M 24 13 L 218.941406 13 L 218.941406 149 L 24 149 Z M 24 13 \"/>\n",
       "</clipPath>\n",
       "<clipPath id=\"clip-1760295257567534-4\">\n",
       "  <path d=\"M 24 0.21875 L 218.941406 0.21875 L 218.941406 162 L 24 162 Z M 24 0.21875 \"/>\n",
       "</clipPath>\n",
       "</defs>\n",
       "<g id=\"surface1\">\n",
       "<g clip-path=\"url(#clip-1760295257567534-1)\" clip-rule=\"nonzero\">\n",
       "<path style=\" stroke:none;fill-rule:nonzero;fill:rgb(100%,100%,100%);fill-opacity:1;\" d=\"M 0 185.757812 L 218.941406 185.757812 L 218.941406 0.21875 L 0 0.21875 Z M 0 185.757812 \"/>\n",
       "</g>\n",
       "<g clip-path=\"url(#clip-1760295257567534-2)\" clip-rule=\"nonzero\">\n",
       "<path style=\"fill:none;stroke-width:0.19925;stroke-linecap:butt;stroke-linejoin:miter;stroke:rgb(50%,50%,50%);stroke-opacity:1;stroke-miterlimit:10;\" d=\"M 0.000884295 -13.44981 L 0.000884295 -9.197397 M 40.473202 -13.44981 L 40.473202 -9.197397 M 80.949435 -13.44981 L 80.949435 -9.197397 M 121.421753 -13.44981 L 121.421753 -9.197397 M 161.89407 -13.44981 L 161.89407 -9.197397 M 0.000884295 147.946087 L 0.000884295 143.693674 M 40.473202 147.946087 L 40.473202 143.693674 M 80.949435 147.946087 L 80.949435 143.693674 M 121.421753 147.946087 L 121.421753 143.693674 M 161.89407 147.946087 L 161.89407 143.693674 \" transform=\"matrix(0.997595,0,0,-0.997595,41.088962,148.004406)\"/>\n",
       "</g>\n",
       "<g clip-path=\"url(#clip-1760295257567534-3)\" clip-rule=\"nonzero\">\n",
       "<path style=\"fill:none;stroke-width:0.19925;stroke-linecap:butt;stroke-linejoin:miter;stroke:rgb(50%,50%,50%);stroke-opacity:1;stroke-miterlimit:10;\" d=\"M -16.190392 0.000501105 L -11.937979 0.000501105 M -16.190392 33.62432 L -11.937979 33.62432 M -16.190392 67.248139 L -11.937979 67.248139 M -16.190392 100.871957 L -11.937979 100.871957 M -16.190392 134.495776 L -11.937979 134.495776 M 178.085346 0.000501105 L 173.832934 0.000501105 M 178.085346 33.62432 L 173.832934 33.62432 M 178.085346 67.248139 L 173.832934 67.248139 M 178.085346 100.871957 L 173.832934 100.871957 M 178.085346 134.495776 L 173.832934 134.495776 \" transform=\"matrix(0.997595,0,0,-0.997595,41.088962,148.004406)\"/>\n",
       "</g>\n",
       "<g clip-path=\"url(#clip-1760295257567534-4)\" clip-rule=\"nonzero\">\n",
       "<path style=\"fill:none;stroke-width:0.3985;stroke-linecap:butt;stroke-linejoin:miter;stroke:rgb(0%,0%,0%);stroke-opacity:1;stroke-miterlimit:10;\" d=\"M -16.190392 -13.44981 L -16.190392 147.946087 L 178.085346 147.946087 L 178.085346 -13.44981 Z M -16.190392 -13.44981 \" transform=\"matrix(0.997595,0,0,-0.997595,41.088962,148.004406)\"/>\n",
       "</g>\n",
       "<g style=\"fill:rgb(0%,0%,0%);fill-opacity:1;\">\n",
       "  <use xlink:href=\"#glyph-1760295257567534-0-1\" x=\"38.604949\" y=\"171.338164\"/>\n",
       "</g>\n",
       "<g style=\"fill:rgb(0%,0%,0%);fill-opacity:1;\">\n",
       "  <use xlink:href=\"#glyph-1760295257567534-0-2\" x=\"78.98063\" y=\"171.338164\"/>\n",
       "</g>\n",
       "<g style=\"fill:rgb(0%,0%,0%);fill-opacity:1;\">\n",
       "  <use xlink:href=\"#glyph-1760295257567534-0-3\" x=\"119.356311\" y=\"171.338164\"/>\n",
       "</g>\n",
       "<g style=\"fill:rgb(0%,0%,0%);fill-opacity:1;\">\n",
       "  <use xlink:href=\"#glyph-1760295257567534-0-4\" x=\"159.731991\" y=\"171.338164\"/>\n",
       "</g>\n",
       "<g style=\"fill:rgb(0%,0%,0%);fill-opacity:1;\">\n",
       "  <use xlink:href=\"#glyph-1760295257567534-0-5\" x=\"200.10867\" y=\"171.338164\"/>\n",
       "</g>\n",
       "<g style=\"fill:rgb(0%,0%,0%);fill-opacity:1;\">\n",
       "  <use xlink:href=\"#glyph-1760295257567534-0-1\" x=\"16.457332\" y=\"151.206688\"/>\n",
       "</g>\n",
       "<g style=\"fill:rgb(0%,0%,0%);fill-opacity:1;\">\n",
       "  <use xlink:href=\"#glyph-1760295257567534-0-2\" x=\"16.457332\" y=\"117.664536\"/>\n",
       "</g>\n",
       "<g style=\"fill:rgb(0%,0%,0%);fill-opacity:1;\">\n",
       "  <use xlink:href=\"#glyph-1760295257567534-0-3\" x=\"16.457332\" y=\"84.122384\"/>\n",
       "</g>\n",
       "<g style=\"fill:rgb(0%,0%,0%);fill-opacity:1;\">\n",
       "  <use xlink:href=\"#glyph-1760295257567534-0-4\" x=\"16.457332\" y=\"50.579234\"/>\n",
       "</g>\n",
       "<g style=\"fill:rgb(0%,0%,0%);fill-opacity:1;\">\n",
       "  <use xlink:href=\"#glyph-1760295257567534-0-5\" x=\"16.457332\" y=\"17.037082\"/>\n",
       "</g>\n",
       "<path style=\"fill-rule:nonzero;fill:rgb(0%,0%,79.998779%);fill-opacity:1;stroke-width:0.3985;stroke-linecap:butt;stroke-linejoin:miter;stroke:rgb(0%,0%,100%);stroke-opacity:1;stroke-miterlimit:10;\" d=\"M 1.993958 0.000501105 C 1.993958 1.100803 1.101186 1.993575 0.000884295 1.993575 C -1.099418 1.993575 -1.992189 1.100803 -1.992189 0.000501105 C -1.992189 -1.099801 -1.099418 -1.992573 0.000884295 -1.992573 C 1.101186 -1.992573 1.993958 -1.099801 1.993958 0.000501105 Z M 1.993958 0.000501105 \" transform=\"matrix(0.997595,0,0,-0.997595,41.088962,148.004406)\"/>\n",
       "<path style=\"fill-rule:nonzero;fill:rgb(0%,0%,79.998779%);fill-opacity:1;stroke-width:0.3985;stroke-linecap:butt;stroke-linejoin:miter;stroke:rgb(0%,0%,100%);stroke-opacity:1;stroke-miterlimit:10;\" d=\"M 42.466276 100.871957 C 42.466276 101.972259 41.573504 102.865031 40.473202 102.865031 C 39.3729 102.865031 38.480128 101.972259 38.480128 100.871957 C 38.480128 99.771655 39.3729 98.878884 40.473202 98.878884 C 41.573504 98.878884 42.466276 99.771655 42.466276 100.871957 Z M 42.466276 100.871957 \" transform=\"matrix(0.997595,0,0,-0.997595,41.088962,148.004406)\"/>\n",
       "<path style=\"fill-rule:nonzero;fill:rgb(0%,0%,79.998779%);fill-opacity:1;stroke-width:0.3985;stroke-linecap:butt;stroke-linejoin:miter;stroke:rgb(0%,0%,100%);stroke-opacity:1;stroke-miterlimit:10;\" d=\"M 82.938593 33.62432 C 82.938593 34.724622 82.049737 35.617394 80.949435 35.617394 C 79.845217 35.617394 78.956361 34.724622 78.956361 33.62432 C 78.956361 32.524018 79.845217 31.631246 80.949435 31.631246 C 82.049737 31.631246 82.938593 32.524018 82.938593 33.62432 Z M 82.938593 33.62432 \" transform=\"matrix(0.997595,0,0,-0.997595,41.088962,148.004406)\"/>\n",
       "<path style=\"fill-rule:nonzero;fill:rgb(0%,0%,79.998779%);fill-opacity:1;stroke-width:0.3985;stroke-linecap:butt;stroke-linejoin:miter;stroke:rgb(0%,0%,100%);stroke-opacity:1;stroke-miterlimit:10;\" d=\"M 123.414826 134.495776 C 123.414826 135.596078 122.522055 136.48885 121.421753 136.48885 C 120.321451 136.48885 119.428679 135.596078 119.428679 134.495776 C 119.428679 133.395474 120.321451 132.506618 121.421753 132.506618 C 122.522055 132.506618 123.414826 133.395474 123.414826 134.495776 Z M 123.414826 134.495776 \" transform=\"matrix(0.997595,0,0,-0.997595,41.088962,148.004406)\"/>\n",
       "<path style=\"fill-rule:nonzero;fill:rgb(0%,0%,79.998779%);fill-opacity:1;stroke-width:0.3985;stroke-linecap:butt;stroke-linejoin:miter;stroke:rgb(0%,0%,100%);stroke-opacity:1;stroke-miterlimit:10;\" d=\"M 163.887144 67.248139 C 163.887144 68.348441 162.994372 69.241212 161.89407 69.241212 C 160.793768 69.241212 159.900996 68.348441 159.900996 67.248139 C 159.900996 66.147837 160.793768 65.255065 161.89407 65.255065 C 162.994372 65.255065 163.887144 66.147837 163.887144 67.248139 Z M 163.887144 67.248139 \" transform=\"matrix(0.997595,0,0,-0.997595,41.088962,148.004406)\"/>\n",
       "<g style=\"fill:rgb(0%,0%,0%);fill-opacity:1;\">\n",
       "  <use xlink:href=\"#glyph-1760295257567534-1-1\" x=\"119.217645\" y=\"182.445392\"/>\n",
       "</g>\n",
       "<g style=\"fill:rgb(0%,0%,0%);fill-opacity:1;\">\n",
       "  <use xlink:href=\"#glyph-1760295257567534-2-1\" x=\"7.595692\" y=\"83.543778\"/>\n",
       "</g>\n",
       "</g>\n",
       "</svg>\n",
       "\n"
      ],
      "text/plain": [
       "TikzPicture(PGFPlotsX.Options(OrderedCollections.OrderedDict{String, Any}(), false), Union{String, PGFPlotsX.TikzElement}[Axis(PGFPlotsX.Options(OrderedCollections.OrderedDict{String, Any}(\"xlabel\" => \"x\", \"ylabel\" => \"y\"), true), Any[Plot(false, true, PGFPlotsX.Options(OrderedCollections.OrderedDict{String, Any}(\"only marks\" => nothing), true), Table(PGFPlotsX.Options(OrderedCollections.OrderedDict{String, Any}(), false), TableData([1 1; 2 4; … ; 4 5; 5 3], [\"x\", \"y\"], Int64[], true)), Any[])])])"
      ]
     },
     "execution_count": 1,
     "metadata": {},
     "output_type": "execute_result"
    }
   ],
   "source": [
    "using PGFPlotsX\n",
    "# Try a simple, small dataset first\n",
    "@pgf TikzPicture(\n",
    "    Axis(\n",
    "        {\n",
    "            xlabel = \"x\",\n",
    "            ylabel = \"y\"\n",
    "        },\n",
    "        PlotInc({only_marks}, Table(; x = 1:5, y = [1, 4, 2, 5, 3]))\n",
    "    )\n",
    ")"
   ]
  },
  {
   "cell_type": "code",
   "execution_count": 2,
   "id": "9d8adfd6-2381-44b0-8528-8297864fa23a",
   "metadata": {},
   "outputs": [
    {
     "data": {
      "text/plain": [
       "0.04"
      ]
     },
     "execution_count": 2,
     "metadata": {},
     "output_type": "execute_result"
    }
   ],
   "source": [
    "4e-2"
   ]
  },
  {
   "cell_type": "code",
   "execution_count": null,
   "id": "b0bd47c9-0fa5-46fa-8357-e6e01f18ca9b",
   "metadata": {},
   "outputs": [],
   "source": []
  }
 ],
 "metadata": {
  "kernelspec": {
   "display_name": "Julia 1.12.0",
   "language": "julia",
   "name": "julia-1.12"
  },
  "language_info": {
   "file_extension": ".jl",
   "mimetype": "application/julia",
   "name": "julia",
   "version": "1.12.0"
  }
 },
 "nbformat": 4,
 "nbformat_minor": 5
}
